{
  "cells": [
    {
      "cell_type": "code",
      "execution_count": 1,
      "metadata": {
        "id": "gWAI1GSU9UqI"
      },
      "outputs": [],
      "source": [
        "# Importing the required libraries for EDA\n",
        "import pandas as pd\n",
        "import numpy as np\n",
        "import matplotlib.pyplot as plt\n",
        "import seaborn as sns"
      ]
    },
    {
      "cell_type": "code",
      "execution_count": 2,
      "metadata": {
        "colab": {
          "base_uri": "https://localhost:8080/",
          "height": 790
        },
        "id": "nYIXg1rm98s5",
        "outputId": "98344f2a-2bfe-4b87-8227-16743832c33e"
      },
      "outputs": [
        {
          "data": {
            "text/html": [
              "<div>\n",
              "<style scoped>\n",
              "    .dataframe tbody tr th:only-of-type {\n",
              "        vertical-align: middle;\n",
              "    }\n",
              "\n",
              "    .dataframe tbody tr th {\n",
              "        vertical-align: top;\n",
              "    }\n",
              "\n",
              "    .dataframe thead th {\n",
              "        text-align: right;\n",
              "    }\n",
              "</style>\n",
              "<table border=\"1\" class=\"dataframe\">\n",
              "  <thead>\n",
              "    <tr style=\"text-align: right;\">\n",
              "      <th></th>\n",
              "      <th>id</th>\n",
              "      <th>year</th>\n",
              "      <th>month</th>\n",
              "      <th>day</th>\n",
              "      <th>dep_time</th>\n",
              "      <th>sched_dep_time</th>\n",
              "      <th>dep_delay</th>\n",
              "      <th>arr_time</th>\n",
              "      <th>sched_arr_time</th>\n",
              "      <th>arr_delay</th>\n",
              "      <th>...</th>\n",
              "      <th>flight</th>\n",
              "      <th>tailnum</th>\n",
              "      <th>origin</th>\n",
              "      <th>dest</th>\n",
              "      <th>air_time</th>\n",
              "      <th>distance</th>\n",
              "      <th>hour</th>\n",
              "      <th>minute</th>\n",
              "      <th>time_hour</th>\n",
              "      <th>name</th>\n",
              "    </tr>\n",
              "  </thead>\n",
              "  <tbody>\n",
              "    <tr>\n",
              "      <th>0</th>\n",
              "      <td>0</td>\n",
              "      <td>2013</td>\n",
              "      <td>1</td>\n",
              "      <td>1</td>\n",
              "      <td>517.0</td>\n",
              "      <td>515</td>\n",
              "      <td>2.0</td>\n",
              "      <td>830.0</td>\n",
              "      <td>819</td>\n",
              "      <td>11.0</td>\n",
              "      <td>...</td>\n",
              "      <td>1545</td>\n",
              "      <td>N14228</td>\n",
              "      <td>EWR</td>\n",
              "      <td>IAH</td>\n",
              "      <td>227.0</td>\n",
              "      <td>1400</td>\n",
              "      <td>5</td>\n",
              "      <td>15</td>\n",
              "      <td>2013-01-01 05:00:00</td>\n",
              "      <td>United Air Lines Inc.</td>\n",
              "    </tr>\n",
              "    <tr>\n",
              "      <th>1</th>\n",
              "      <td>1</td>\n",
              "      <td>2013</td>\n",
              "      <td>1</td>\n",
              "      <td>1</td>\n",
              "      <td>533.0</td>\n",
              "      <td>529</td>\n",
              "      <td>4.0</td>\n",
              "      <td>850.0</td>\n",
              "      <td>830</td>\n",
              "      <td>20.0</td>\n",
              "      <td>...</td>\n",
              "      <td>1714</td>\n",
              "      <td>N24211</td>\n",
              "      <td>LGA</td>\n",
              "      <td>IAH</td>\n",
              "      <td>227.0</td>\n",
              "      <td>1416</td>\n",
              "      <td>5</td>\n",
              "      <td>29</td>\n",
              "      <td>2013-01-01 05:00:00</td>\n",
              "      <td>United Air Lines Inc.</td>\n",
              "    </tr>\n",
              "    <tr>\n",
              "      <th>2</th>\n",
              "      <td>2</td>\n",
              "      <td>2013</td>\n",
              "      <td>1</td>\n",
              "      <td>1</td>\n",
              "      <td>542.0</td>\n",
              "      <td>540</td>\n",
              "      <td>2.0</td>\n",
              "      <td>923.0</td>\n",
              "      <td>850</td>\n",
              "      <td>33.0</td>\n",
              "      <td>...</td>\n",
              "      <td>1141</td>\n",
              "      <td>N619AA</td>\n",
              "      <td>JFK</td>\n",
              "      <td>MIA</td>\n",
              "      <td>160.0</td>\n",
              "      <td>1089</td>\n",
              "      <td>5</td>\n",
              "      <td>40</td>\n",
              "      <td>2013-01-01 05:00:00</td>\n",
              "      <td>American Airlines Inc.</td>\n",
              "    </tr>\n",
              "    <tr>\n",
              "      <th>3</th>\n",
              "      <td>3</td>\n",
              "      <td>2013</td>\n",
              "      <td>1</td>\n",
              "      <td>1</td>\n",
              "      <td>544.0</td>\n",
              "      <td>545</td>\n",
              "      <td>-1.0</td>\n",
              "      <td>1004.0</td>\n",
              "      <td>1022</td>\n",
              "      <td>-18.0</td>\n",
              "      <td>...</td>\n",
              "      <td>725</td>\n",
              "      <td>N804JB</td>\n",
              "      <td>JFK</td>\n",
              "      <td>BQN</td>\n",
              "      <td>183.0</td>\n",
              "      <td>1576</td>\n",
              "      <td>5</td>\n",
              "      <td>45</td>\n",
              "      <td>2013-01-01 05:00:00</td>\n",
              "      <td>JetBlue Airways</td>\n",
              "    </tr>\n",
              "    <tr>\n",
              "      <th>4</th>\n",
              "      <td>4</td>\n",
              "      <td>2013</td>\n",
              "      <td>1</td>\n",
              "      <td>1</td>\n",
              "      <td>554.0</td>\n",
              "      <td>600</td>\n",
              "      <td>-6.0</td>\n",
              "      <td>812.0</td>\n",
              "      <td>837</td>\n",
              "      <td>-25.0</td>\n",
              "      <td>...</td>\n",
              "      <td>461</td>\n",
              "      <td>N668DN</td>\n",
              "      <td>LGA</td>\n",
              "      <td>ATL</td>\n",
              "      <td>116.0</td>\n",
              "      <td>762</td>\n",
              "      <td>6</td>\n",
              "      <td>0</td>\n",
              "      <td>2013-01-01 06:00:00</td>\n",
              "      <td>Delta Air Lines Inc.</td>\n",
              "    </tr>\n",
              "    <tr>\n",
              "      <th>...</th>\n",
              "      <td>...</td>\n",
              "      <td>...</td>\n",
              "      <td>...</td>\n",
              "      <td>...</td>\n",
              "      <td>...</td>\n",
              "      <td>...</td>\n",
              "      <td>...</td>\n",
              "      <td>...</td>\n",
              "      <td>...</td>\n",
              "      <td>...</td>\n",
              "      <td>...</td>\n",
              "      <td>...</td>\n",
              "      <td>...</td>\n",
              "      <td>...</td>\n",
              "      <td>...</td>\n",
              "      <td>...</td>\n",
              "      <td>...</td>\n",
              "      <td>...</td>\n",
              "      <td>...</td>\n",
              "      <td>...</td>\n",
              "      <td>...</td>\n",
              "    </tr>\n",
              "    <tr>\n",
              "      <th>336771</th>\n",
              "      <td>336771</td>\n",
              "      <td>2013</td>\n",
              "      <td>9</td>\n",
              "      <td>30</td>\n",
              "      <td>NaN</td>\n",
              "      <td>1455</td>\n",
              "      <td>NaN</td>\n",
              "      <td>NaN</td>\n",
              "      <td>1634</td>\n",
              "      <td>NaN</td>\n",
              "      <td>...</td>\n",
              "      <td>3393</td>\n",
              "      <td>NaN</td>\n",
              "      <td>JFK</td>\n",
              "      <td>DCA</td>\n",
              "      <td>NaN</td>\n",
              "      <td>213</td>\n",
              "      <td>14</td>\n",
              "      <td>55</td>\n",
              "      <td>2013-09-30 14:00:00</td>\n",
              "      <td>Endeavor Air Inc.</td>\n",
              "    </tr>\n",
              "    <tr>\n",
              "      <th>336772</th>\n",
              "      <td>336772</td>\n",
              "      <td>2013</td>\n",
              "      <td>9</td>\n",
              "      <td>30</td>\n",
              "      <td>NaN</td>\n",
              "      <td>2200</td>\n",
              "      <td>NaN</td>\n",
              "      <td>NaN</td>\n",
              "      <td>2312</td>\n",
              "      <td>NaN</td>\n",
              "      <td>...</td>\n",
              "      <td>3525</td>\n",
              "      <td>NaN</td>\n",
              "      <td>LGA</td>\n",
              "      <td>SYR</td>\n",
              "      <td>NaN</td>\n",
              "      <td>198</td>\n",
              "      <td>22</td>\n",
              "      <td>0</td>\n",
              "      <td>2013-09-30 22:00:00</td>\n",
              "      <td>Endeavor Air Inc.</td>\n",
              "    </tr>\n",
              "    <tr>\n",
              "      <th>336773</th>\n",
              "      <td>336773</td>\n",
              "      <td>2013</td>\n",
              "      <td>9</td>\n",
              "      <td>30</td>\n",
              "      <td>NaN</td>\n",
              "      <td>1210</td>\n",
              "      <td>NaN</td>\n",
              "      <td>NaN</td>\n",
              "      <td>1330</td>\n",
              "      <td>NaN</td>\n",
              "      <td>...</td>\n",
              "      <td>3461</td>\n",
              "      <td>N535MQ</td>\n",
              "      <td>LGA</td>\n",
              "      <td>BNA</td>\n",
              "      <td>NaN</td>\n",
              "      <td>764</td>\n",
              "      <td>12</td>\n",
              "      <td>10</td>\n",
              "      <td>2013-09-30 12:00:00</td>\n",
              "      <td>Envoy Air</td>\n",
              "    </tr>\n",
              "    <tr>\n",
              "      <th>336774</th>\n",
              "      <td>336774</td>\n",
              "      <td>2013</td>\n",
              "      <td>9</td>\n",
              "      <td>30</td>\n",
              "      <td>NaN</td>\n",
              "      <td>1159</td>\n",
              "      <td>NaN</td>\n",
              "      <td>NaN</td>\n",
              "      <td>1344</td>\n",
              "      <td>NaN</td>\n",
              "      <td>...</td>\n",
              "      <td>3572</td>\n",
              "      <td>N511MQ</td>\n",
              "      <td>LGA</td>\n",
              "      <td>CLE</td>\n",
              "      <td>NaN</td>\n",
              "      <td>419</td>\n",
              "      <td>11</td>\n",
              "      <td>59</td>\n",
              "      <td>2013-09-30 11:00:00</td>\n",
              "      <td>Envoy Air</td>\n",
              "    </tr>\n",
              "    <tr>\n",
              "      <th>336775</th>\n",
              "      <td>336775</td>\n",
              "      <td>2013</td>\n",
              "      <td>9</td>\n",
              "      <td>30</td>\n",
              "      <td>NaN</td>\n",
              "      <td>840</td>\n",
              "      <td>NaN</td>\n",
              "      <td>NaN</td>\n",
              "      <td>1020</td>\n",
              "      <td>NaN</td>\n",
              "      <td>...</td>\n",
              "      <td>3531</td>\n",
              "      <td>N839MQ</td>\n",
              "      <td>LGA</td>\n",
              "      <td>RDU</td>\n",
              "      <td>NaN</td>\n",
              "      <td>431</td>\n",
              "      <td>8</td>\n",
              "      <td>40</td>\n",
              "      <td>2013-09-30 08:00:00</td>\n",
              "      <td>Envoy Air</td>\n",
              "    </tr>\n",
              "  </tbody>\n",
              "</table>\n",
              "<p>336776 rows × 21 columns</p>\n",
              "</div>"
            ],
            "text/plain": [
              "            id  year  month  day  dep_time  sched_dep_time  dep_delay  \\\n",
              "0            0  2013      1    1     517.0             515        2.0   \n",
              "1            1  2013      1    1     533.0             529        4.0   \n",
              "2            2  2013      1    1     542.0             540        2.0   \n",
              "3            3  2013      1    1     544.0             545       -1.0   \n",
              "4            4  2013      1    1     554.0             600       -6.0   \n",
              "...        ...   ...    ...  ...       ...             ...        ...   \n",
              "336771  336771  2013      9   30       NaN            1455        NaN   \n",
              "336772  336772  2013      9   30       NaN            2200        NaN   \n",
              "336773  336773  2013      9   30       NaN            1210        NaN   \n",
              "336774  336774  2013      9   30       NaN            1159        NaN   \n",
              "336775  336775  2013      9   30       NaN             840        NaN   \n",
              "\n",
              "        arr_time  sched_arr_time  arr_delay  ... flight  tailnum origin dest  \\\n",
              "0          830.0             819       11.0  ...   1545   N14228    EWR  IAH   \n",
              "1          850.0             830       20.0  ...   1714   N24211    LGA  IAH   \n",
              "2          923.0             850       33.0  ...   1141   N619AA    JFK  MIA   \n",
              "3         1004.0            1022      -18.0  ...    725   N804JB    JFK  BQN   \n",
              "4          812.0             837      -25.0  ...    461   N668DN    LGA  ATL   \n",
              "...          ...             ...        ...  ...    ...      ...    ...  ...   \n",
              "336771       NaN            1634        NaN  ...   3393      NaN    JFK  DCA   \n",
              "336772       NaN            2312        NaN  ...   3525      NaN    LGA  SYR   \n",
              "336773       NaN            1330        NaN  ...   3461   N535MQ    LGA  BNA   \n",
              "336774       NaN            1344        NaN  ...   3572   N511MQ    LGA  CLE   \n",
              "336775       NaN            1020        NaN  ...   3531   N839MQ    LGA  RDU   \n",
              "\n",
              "       air_time  distance  hour  minute            time_hour  \\\n",
              "0         227.0      1400     5      15  2013-01-01 05:00:00   \n",
              "1         227.0      1416     5      29  2013-01-01 05:00:00   \n",
              "2         160.0      1089     5      40  2013-01-01 05:00:00   \n",
              "3         183.0      1576     5      45  2013-01-01 05:00:00   \n",
              "4         116.0       762     6       0  2013-01-01 06:00:00   \n",
              "...         ...       ...   ...     ...                  ...   \n",
              "336771      NaN       213    14      55  2013-09-30 14:00:00   \n",
              "336772      NaN       198    22       0  2013-09-30 22:00:00   \n",
              "336773      NaN       764    12      10  2013-09-30 12:00:00   \n",
              "336774      NaN       419    11      59  2013-09-30 11:00:00   \n",
              "336775      NaN       431     8      40  2013-09-30 08:00:00   \n",
              "\n",
              "                          name  \n",
              "0        United Air Lines Inc.  \n",
              "1        United Air Lines Inc.  \n",
              "2       American Airlines Inc.  \n",
              "3              JetBlue Airways  \n",
              "4         Delta Air Lines Inc.  \n",
              "...                        ...  \n",
              "336771       Endeavor Air Inc.  \n",
              "336772       Endeavor Air Inc.  \n",
              "336773               Envoy Air  \n",
              "336774               Envoy Air  \n",
              "336775               Envoy Air  \n",
              "\n",
              "[336776 rows x 21 columns]"
            ]
          },
          "execution_count": 2,
          "metadata": {},
          "output_type": "execute_result"
        }
      ],
      "source": [
        "# Loading the data into the data frame.\n",
        "df = pd.read_csv('flights.csv')\n",
        "df"
      ]
    },
    {
      "cell_type": "code",
      "execution_count": 3,
      "metadata": {
        "colab": {
          "base_uri": "https://localhost:8080/",
          "height": 429
        },
        "id": "QxMD75pr_qmL",
        "outputId": "c7e765b3-7345-4083-e9a0-11c3a55599a1"
      },
      "outputs": [
        {
          "data": {
            "text/html": [
              "<div>\n",
              "<style scoped>\n",
              "    .dataframe tbody tr th:only-of-type {\n",
              "        vertical-align: middle;\n",
              "    }\n",
              "\n",
              "    .dataframe tbody tr th {\n",
              "        vertical-align: top;\n",
              "    }\n",
              "\n",
              "    .dataframe thead th {\n",
              "        text-align: right;\n",
              "    }\n",
              "</style>\n",
              "<table border=\"1\" class=\"dataframe\">\n",
              "  <thead>\n",
              "    <tr style=\"text-align: right;\">\n",
              "      <th></th>\n",
              "      <th>id</th>\n",
              "      <th>year</th>\n",
              "      <th>month</th>\n",
              "      <th>day</th>\n",
              "      <th>dep_time</th>\n",
              "      <th>sched_dep_time</th>\n",
              "      <th>dep_delay</th>\n",
              "      <th>arr_time</th>\n",
              "      <th>sched_arr_time</th>\n",
              "      <th>arr_delay</th>\n",
              "      <th>...</th>\n",
              "      <th>flight</th>\n",
              "      <th>tailnum</th>\n",
              "      <th>origin</th>\n",
              "      <th>dest</th>\n",
              "      <th>air_time</th>\n",
              "      <th>distance</th>\n",
              "      <th>hour</th>\n",
              "      <th>minute</th>\n",
              "      <th>time_hour</th>\n",
              "      <th>name</th>\n",
              "    </tr>\n",
              "  </thead>\n",
              "  <tbody>\n",
              "    <tr>\n",
              "      <th>0</th>\n",
              "      <td>0</td>\n",
              "      <td>2013</td>\n",
              "      <td>1</td>\n",
              "      <td>1</td>\n",
              "      <td>517.0</td>\n",
              "      <td>515</td>\n",
              "      <td>2.0</td>\n",
              "      <td>830.0</td>\n",
              "      <td>819</td>\n",
              "      <td>11.0</td>\n",
              "      <td>...</td>\n",
              "      <td>1545</td>\n",
              "      <td>N14228</td>\n",
              "      <td>EWR</td>\n",
              "      <td>IAH</td>\n",
              "      <td>227.0</td>\n",
              "      <td>1400</td>\n",
              "      <td>5</td>\n",
              "      <td>15</td>\n",
              "      <td>2013-01-01 05:00:00</td>\n",
              "      <td>United Air Lines Inc.</td>\n",
              "    </tr>\n",
              "    <tr>\n",
              "      <th>1</th>\n",
              "      <td>1</td>\n",
              "      <td>2013</td>\n",
              "      <td>1</td>\n",
              "      <td>1</td>\n",
              "      <td>533.0</td>\n",
              "      <td>529</td>\n",
              "      <td>4.0</td>\n",
              "      <td>850.0</td>\n",
              "      <td>830</td>\n",
              "      <td>20.0</td>\n",
              "      <td>...</td>\n",
              "      <td>1714</td>\n",
              "      <td>N24211</td>\n",
              "      <td>LGA</td>\n",
              "      <td>IAH</td>\n",
              "      <td>227.0</td>\n",
              "      <td>1416</td>\n",
              "      <td>5</td>\n",
              "      <td>29</td>\n",
              "      <td>2013-01-01 05:00:00</td>\n",
              "      <td>United Air Lines Inc.</td>\n",
              "    </tr>\n",
              "    <tr>\n",
              "      <th>2</th>\n",
              "      <td>2</td>\n",
              "      <td>2013</td>\n",
              "      <td>1</td>\n",
              "      <td>1</td>\n",
              "      <td>542.0</td>\n",
              "      <td>540</td>\n",
              "      <td>2.0</td>\n",
              "      <td>923.0</td>\n",
              "      <td>850</td>\n",
              "      <td>33.0</td>\n",
              "      <td>...</td>\n",
              "      <td>1141</td>\n",
              "      <td>N619AA</td>\n",
              "      <td>JFK</td>\n",
              "      <td>MIA</td>\n",
              "      <td>160.0</td>\n",
              "      <td>1089</td>\n",
              "      <td>5</td>\n",
              "      <td>40</td>\n",
              "      <td>2013-01-01 05:00:00</td>\n",
              "      <td>American Airlines Inc.</td>\n",
              "    </tr>\n",
              "    <tr>\n",
              "      <th>3</th>\n",
              "      <td>3</td>\n",
              "      <td>2013</td>\n",
              "      <td>1</td>\n",
              "      <td>1</td>\n",
              "      <td>544.0</td>\n",
              "      <td>545</td>\n",
              "      <td>-1.0</td>\n",
              "      <td>1004.0</td>\n",
              "      <td>1022</td>\n",
              "      <td>-18.0</td>\n",
              "      <td>...</td>\n",
              "      <td>725</td>\n",
              "      <td>N804JB</td>\n",
              "      <td>JFK</td>\n",
              "      <td>BQN</td>\n",
              "      <td>183.0</td>\n",
              "      <td>1576</td>\n",
              "      <td>5</td>\n",
              "      <td>45</td>\n",
              "      <td>2013-01-01 05:00:00</td>\n",
              "      <td>JetBlue Airways</td>\n",
              "    </tr>\n",
              "    <tr>\n",
              "      <th>4</th>\n",
              "      <td>4</td>\n",
              "      <td>2013</td>\n",
              "      <td>1</td>\n",
              "      <td>1</td>\n",
              "      <td>554.0</td>\n",
              "      <td>600</td>\n",
              "      <td>-6.0</td>\n",
              "      <td>812.0</td>\n",
              "      <td>837</td>\n",
              "      <td>-25.0</td>\n",
              "      <td>...</td>\n",
              "      <td>461</td>\n",
              "      <td>N668DN</td>\n",
              "      <td>LGA</td>\n",
              "      <td>ATL</td>\n",
              "      <td>116.0</td>\n",
              "      <td>762</td>\n",
              "      <td>6</td>\n",
              "      <td>0</td>\n",
              "      <td>2013-01-01 06:00:00</td>\n",
              "      <td>Delta Air Lines Inc.</td>\n",
              "    </tr>\n",
              "  </tbody>\n",
              "</table>\n",
              "<p>5 rows × 21 columns</p>\n",
              "</div>"
            ],
            "text/plain": [
              "   id  year  month  day  dep_time  sched_dep_time  dep_delay  arr_time  \\\n",
              "0   0  2013      1    1     517.0             515        2.0     830.0   \n",
              "1   1  2013      1    1     533.0             529        4.0     850.0   \n",
              "2   2  2013      1    1     542.0             540        2.0     923.0   \n",
              "3   3  2013      1    1     544.0             545       -1.0    1004.0   \n",
              "4   4  2013      1    1     554.0             600       -6.0     812.0   \n",
              "\n",
              "   sched_arr_time  arr_delay  ... flight  tailnum origin dest air_time  \\\n",
              "0             819       11.0  ...   1545   N14228    EWR  IAH    227.0   \n",
              "1             830       20.0  ...   1714   N24211    LGA  IAH    227.0   \n",
              "2             850       33.0  ...   1141   N619AA    JFK  MIA    160.0   \n",
              "3            1022      -18.0  ...    725   N804JB    JFK  BQN    183.0   \n",
              "4             837      -25.0  ...    461   N668DN    LGA  ATL    116.0   \n",
              "\n",
              "   distance  hour  minute            time_hour                    name  \n",
              "0      1400     5      15  2013-01-01 05:00:00   United Air Lines Inc.  \n",
              "1      1416     5      29  2013-01-01 05:00:00   United Air Lines Inc.  \n",
              "2      1089     5      40  2013-01-01 05:00:00  American Airlines Inc.  \n",
              "3      1576     5      45  2013-01-01 05:00:00         JetBlue Airways  \n",
              "4       762     6       0  2013-01-01 06:00:00    Delta Air Lines Inc.  \n",
              "\n",
              "[5 rows x 21 columns]"
            ]
          },
          "execution_count": 3,
          "metadata": {},
          "output_type": "execute_result"
        }
      ],
      "source": [
        "# to acess the fist row datasheet\n",
        "df.head()"
      ]
    },
    {
      "cell_type": "code",
      "execution_count": 4,
      "metadata": {
        "colab": {
          "base_uri": "https://localhost:8080/",
          "height": 429
        },
        "id": "HMWa0gqL_sok",
        "outputId": "fa5408d8-5d86-45cd-ec2d-0a44bbc0a40b"
      },
      "outputs": [
        {
          "data": {
            "text/html": [
              "<div>\n",
              "<style scoped>\n",
              "    .dataframe tbody tr th:only-of-type {\n",
              "        vertical-align: middle;\n",
              "    }\n",
              "\n",
              "    .dataframe tbody tr th {\n",
              "        vertical-align: top;\n",
              "    }\n",
              "\n",
              "    .dataframe thead th {\n",
              "        text-align: right;\n",
              "    }\n",
              "</style>\n",
              "<table border=\"1\" class=\"dataframe\">\n",
              "  <thead>\n",
              "    <tr style=\"text-align: right;\">\n",
              "      <th></th>\n",
              "      <th>id</th>\n",
              "      <th>year</th>\n",
              "      <th>month</th>\n",
              "      <th>day</th>\n",
              "      <th>dep_time</th>\n",
              "      <th>sched_dep_time</th>\n",
              "      <th>dep_delay</th>\n",
              "      <th>arr_time</th>\n",
              "      <th>sched_arr_time</th>\n",
              "      <th>arr_delay</th>\n",
              "      <th>...</th>\n",
              "      <th>flight</th>\n",
              "      <th>tailnum</th>\n",
              "      <th>origin</th>\n",
              "      <th>dest</th>\n",
              "      <th>air_time</th>\n",
              "      <th>distance</th>\n",
              "      <th>hour</th>\n",
              "      <th>minute</th>\n",
              "      <th>time_hour</th>\n",
              "      <th>name</th>\n",
              "    </tr>\n",
              "  </thead>\n",
              "  <tbody>\n",
              "    <tr>\n",
              "      <th>336771</th>\n",
              "      <td>336771</td>\n",
              "      <td>2013</td>\n",
              "      <td>9</td>\n",
              "      <td>30</td>\n",
              "      <td>NaN</td>\n",
              "      <td>1455</td>\n",
              "      <td>NaN</td>\n",
              "      <td>NaN</td>\n",
              "      <td>1634</td>\n",
              "      <td>NaN</td>\n",
              "      <td>...</td>\n",
              "      <td>3393</td>\n",
              "      <td>NaN</td>\n",
              "      <td>JFK</td>\n",
              "      <td>DCA</td>\n",
              "      <td>NaN</td>\n",
              "      <td>213</td>\n",
              "      <td>14</td>\n",
              "      <td>55</td>\n",
              "      <td>2013-09-30 14:00:00</td>\n",
              "      <td>Endeavor Air Inc.</td>\n",
              "    </tr>\n",
              "    <tr>\n",
              "      <th>336772</th>\n",
              "      <td>336772</td>\n",
              "      <td>2013</td>\n",
              "      <td>9</td>\n",
              "      <td>30</td>\n",
              "      <td>NaN</td>\n",
              "      <td>2200</td>\n",
              "      <td>NaN</td>\n",
              "      <td>NaN</td>\n",
              "      <td>2312</td>\n",
              "      <td>NaN</td>\n",
              "      <td>...</td>\n",
              "      <td>3525</td>\n",
              "      <td>NaN</td>\n",
              "      <td>LGA</td>\n",
              "      <td>SYR</td>\n",
              "      <td>NaN</td>\n",
              "      <td>198</td>\n",
              "      <td>22</td>\n",
              "      <td>0</td>\n",
              "      <td>2013-09-30 22:00:00</td>\n",
              "      <td>Endeavor Air Inc.</td>\n",
              "    </tr>\n",
              "    <tr>\n",
              "      <th>336773</th>\n",
              "      <td>336773</td>\n",
              "      <td>2013</td>\n",
              "      <td>9</td>\n",
              "      <td>30</td>\n",
              "      <td>NaN</td>\n",
              "      <td>1210</td>\n",
              "      <td>NaN</td>\n",
              "      <td>NaN</td>\n",
              "      <td>1330</td>\n",
              "      <td>NaN</td>\n",
              "      <td>...</td>\n",
              "      <td>3461</td>\n",
              "      <td>N535MQ</td>\n",
              "      <td>LGA</td>\n",
              "      <td>BNA</td>\n",
              "      <td>NaN</td>\n",
              "      <td>764</td>\n",
              "      <td>12</td>\n",
              "      <td>10</td>\n",
              "      <td>2013-09-30 12:00:00</td>\n",
              "      <td>Envoy Air</td>\n",
              "    </tr>\n",
              "    <tr>\n",
              "      <th>336774</th>\n",
              "      <td>336774</td>\n",
              "      <td>2013</td>\n",
              "      <td>9</td>\n",
              "      <td>30</td>\n",
              "      <td>NaN</td>\n",
              "      <td>1159</td>\n",
              "      <td>NaN</td>\n",
              "      <td>NaN</td>\n",
              "      <td>1344</td>\n",
              "      <td>NaN</td>\n",
              "      <td>...</td>\n",
              "      <td>3572</td>\n",
              "      <td>N511MQ</td>\n",
              "      <td>LGA</td>\n",
              "      <td>CLE</td>\n",
              "      <td>NaN</td>\n",
              "      <td>419</td>\n",
              "      <td>11</td>\n",
              "      <td>59</td>\n",
              "      <td>2013-09-30 11:00:00</td>\n",
              "      <td>Envoy Air</td>\n",
              "    </tr>\n",
              "    <tr>\n",
              "      <th>336775</th>\n",
              "      <td>336775</td>\n",
              "      <td>2013</td>\n",
              "      <td>9</td>\n",
              "      <td>30</td>\n",
              "      <td>NaN</td>\n",
              "      <td>840</td>\n",
              "      <td>NaN</td>\n",
              "      <td>NaN</td>\n",
              "      <td>1020</td>\n",
              "      <td>NaN</td>\n",
              "      <td>...</td>\n",
              "      <td>3531</td>\n",
              "      <td>N839MQ</td>\n",
              "      <td>LGA</td>\n",
              "      <td>RDU</td>\n",
              "      <td>NaN</td>\n",
              "      <td>431</td>\n",
              "      <td>8</td>\n",
              "      <td>40</td>\n",
              "      <td>2013-09-30 08:00:00</td>\n",
              "      <td>Envoy Air</td>\n",
              "    </tr>\n",
              "  </tbody>\n",
              "</table>\n",
              "<p>5 rows × 21 columns</p>\n",
              "</div>"
            ],
            "text/plain": [
              "            id  year  month  day  dep_time  sched_dep_time  dep_delay  \\\n",
              "336771  336771  2013      9   30       NaN            1455        NaN   \n",
              "336772  336772  2013      9   30       NaN            2200        NaN   \n",
              "336773  336773  2013      9   30       NaN            1210        NaN   \n",
              "336774  336774  2013      9   30       NaN            1159        NaN   \n",
              "336775  336775  2013      9   30       NaN             840        NaN   \n",
              "\n",
              "        arr_time  sched_arr_time  arr_delay  ... flight  tailnum origin dest  \\\n",
              "336771       NaN            1634        NaN  ...   3393      NaN    JFK  DCA   \n",
              "336772       NaN            2312        NaN  ...   3525      NaN    LGA  SYR   \n",
              "336773       NaN            1330        NaN  ...   3461   N535MQ    LGA  BNA   \n",
              "336774       NaN            1344        NaN  ...   3572   N511MQ    LGA  CLE   \n",
              "336775       NaN            1020        NaN  ...   3531   N839MQ    LGA  RDU   \n",
              "\n",
              "       air_time  distance  hour  minute            time_hour  \\\n",
              "336771      NaN       213    14      55  2013-09-30 14:00:00   \n",
              "336772      NaN       198    22       0  2013-09-30 22:00:00   \n",
              "336773      NaN       764    12      10  2013-09-30 12:00:00   \n",
              "336774      NaN       419    11      59  2013-09-30 11:00:00   \n",
              "336775      NaN       431     8      40  2013-09-30 08:00:00   \n",
              "\n",
              "                     name  \n",
              "336771  Endeavor Air Inc.  \n",
              "336772  Endeavor Air Inc.  \n",
              "336773          Envoy Air  \n",
              "336774          Envoy Air  \n",
              "336775          Envoy Air  \n",
              "\n",
              "[5 rows x 21 columns]"
            ]
          },
          "execution_count": 4,
          "metadata": {},
          "output_type": "execute_result"
        }
      ],
      "source": [
        "# To acess the last 5 row of datasheet\n",
        "df.tail()"
      ]
    },
    {
      "cell_type": "code",
      "execution_count": 5,
      "metadata": {
        "colab": {
          "base_uri": "https://localhost:8080/",
          "height": 203
        },
        "id": "WJvros1BBBsx",
        "outputId": "0d068b64-7857-4b98-f597-087af895b8b4"
      },
      "outputs": [
        {
          "data": {
            "text/plain": [
              "pandas.core.frame.DataFrame"
            ]
          },
          "execution_count": 5,
          "metadata": {},
          "output_type": "execute_result"
        }
      ],
      "source": [
        "type(df)"
      ]
    },
    {
      "cell_type": "code",
      "execution_count": 6,
      "metadata": {
        "colab": {
          "base_uri": "https://localhost:8080/"
        },
        "id": "XnQUaeLGAf24",
        "outputId": "e93f7e70-34df-4c6c-9a0d-e63214aea0f3"
      },
      "outputs": [
        {
          "data": {
            "text/plain": [
              "id                  int64\n",
              "year                int64\n",
              "month               int64\n",
              "day                 int64\n",
              "dep_time          float64\n",
              "sched_dep_time      int64\n",
              "dep_delay         float64\n",
              "arr_time          float64\n",
              "sched_arr_time      int64\n",
              "arr_delay         float64\n",
              "carrier            object\n",
              "flight              int64\n",
              "tailnum            object\n",
              "origin             object\n",
              "dest               object\n",
              "air_time          float64\n",
              "distance            int64\n",
              "hour                int64\n",
              "minute              int64\n",
              "time_hour          object\n",
              "name               object\n",
              "dtype: object"
            ]
          },
          "execution_count": 6,
          "metadata": {},
          "output_type": "execute_result"
        }
      ],
      "source": [
        "# Checking the types of data\n",
        "df.dtypes"
      ]
    },
    {
      "cell_type": "code",
      "execution_count": 7,
      "metadata": {
        "colab": {
          "base_uri": "https://localhost:8080/",
          "height": 790
        },
        "id": "JeC2-QFycovh",
        "outputId": "326f4955-c901-47d8-c971-f99942b8c1a0"
      },
      "outputs": [
        {
          "data": {
            "text/html": [
              "<div>\n",
              "<style scoped>\n",
              "    .dataframe tbody tr th:only-of-type {\n",
              "        vertical-align: middle;\n",
              "    }\n",
              "\n",
              "    .dataframe tbody tr th {\n",
              "        vertical-align: top;\n",
              "    }\n",
              "\n",
              "    .dataframe thead th {\n",
              "        text-align: right;\n",
              "    }\n",
              "</style>\n",
              "<table border=\"1\" class=\"dataframe\">\n",
              "  <thead>\n",
              "    <tr style=\"text-align: right;\">\n",
              "      <th></th>\n",
              "      <th>id</th>\n",
              "      <th>year</th>\n",
              "      <th>month</th>\n",
              "      <th>day</th>\n",
              "      <th>dep_time</th>\n",
              "      <th>sched_dep_time</th>\n",
              "      <th>dep_delay</th>\n",
              "      <th>arr_time</th>\n",
              "      <th>sched_arr_time</th>\n",
              "      <th>arr_delay</th>\n",
              "      <th>...</th>\n",
              "      <th>flight</th>\n",
              "      <th>tailnum</th>\n",
              "      <th>origin</th>\n",
              "      <th>dest</th>\n",
              "      <th>air_time</th>\n",
              "      <th>distance</th>\n",
              "      <th>hour</th>\n",
              "      <th>minute</th>\n",
              "      <th>time_hour</th>\n",
              "      <th>name</th>\n",
              "    </tr>\n",
              "  </thead>\n",
              "  <tbody>\n",
              "    <tr>\n",
              "      <th>0</th>\n",
              "      <td>0</td>\n",
              "      <td>2013</td>\n",
              "      <td>1</td>\n",
              "      <td>1</td>\n",
              "      <td>517.0</td>\n",
              "      <td>515</td>\n",
              "      <td>2.0</td>\n",
              "      <td>830.0</td>\n",
              "      <td>819</td>\n",
              "      <td>11.0</td>\n",
              "      <td>...</td>\n",
              "      <td>1545</td>\n",
              "      <td>N14228</td>\n",
              "      <td>EWR</td>\n",
              "      <td>IAH</td>\n",
              "      <td>227.0</td>\n",
              "      <td>1400</td>\n",
              "      <td>5</td>\n",
              "      <td>15</td>\n",
              "      <td>2013-01-01 05:00:00</td>\n",
              "      <td>United Air Lines Inc.</td>\n",
              "    </tr>\n",
              "    <tr>\n",
              "      <th>1</th>\n",
              "      <td>1</td>\n",
              "      <td>2013</td>\n",
              "      <td>1</td>\n",
              "      <td>1</td>\n",
              "      <td>533.0</td>\n",
              "      <td>529</td>\n",
              "      <td>4.0</td>\n",
              "      <td>850.0</td>\n",
              "      <td>830</td>\n",
              "      <td>20.0</td>\n",
              "      <td>...</td>\n",
              "      <td>1714</td>\n",
              "      <td>N24211</td>\n",
              "      <td>LGA</td>\n",
              "      <td>IAH</td>\n",
              "      <td>227.0</td>\n",
              "      <td>1416</td>\n",
              "      <td>5</td>\n",
              "      <td>29</td>\n",
              "      <td>2013-01-01 05:00:00</td>\n",
              "      <td>United Air Lines Inc.</td>\n",
              "    </tr>\n",
              "    <tr>\n",
              "      <th>2</th>\n",
              "      <td>2</td>\n",
              "      <td>2013</td>\n",
              "      <td>1</td>\n",
              "      <td>1</td>\n",
              "      <td>542.0</td>\n",
              "      <td>540</td>\n",
              "      <td>2.0</td>\n",
              "      <td>923.0</td>\n",
              "      <td>850</td>\n",
              "      <td>33.0</td>\n",
              "      <td>...</td>\n",
              "      <td>1141</td>\n",
              "      <td>N619AA</td>\n",
              "      <td>JFK</td>\n",
              "      <td>MIA</td>\n",
              "      <td>160.0</td>\n",
              "      <td>1089</td>\n",
              "      <td>5</td>\n",
              "      <td>40</td>\n",
              "      <td>2013-01-01 05:00:00</td>\n",
              "      <td>American Airlines Inc.</td>\n",
              "    </tr>\n",
              "    <tr>\n",
              "      <th>3</th>\n",
              "      <td>3</td>\n",
              "      <td>2013</td>\n",
              "      <td>1</td>\n",
              "      <td>1</td>\n",
              "      <td>544.0</td>\n",
              "      <td>545</td>\n",
              "      <td>-1.0</td>\n",
              "      <td>1004.0</td>\n",
              "      <td>1022</td>\n",
              "      <td>-18.0</td>\n",
              "      <td>...</td>\n",
              "      <td>725</td>\n",
              "      <td>N804JB</td>\n",
              "      <td>JFK</td>\n",
              "      <td>BQN</td>\n",
              "      <td>183.0</td>\n",
              "      <td>1576</td>\n",
              "      <td>5</td>\n",
              "      <td>45</td>\n",
              "      <td>2013-01-01 05:00:00</td>\n",
              "      <td>JetBlue Airways</td>\n",
              "    </tr>\n",
              "    <tr>\n",
              "      <th>4</th>\n",
              "      <td>4</td>\n",
              "      <td>2013</td>\n",
              "      <td>1</td>\n",
              "      <td>1</td>\n",
              "      <td>554.0</td>\n",
              "      <td>600</td>\n",
              "      <td>-6.0</td>\n",
              "      <td>812.0</td>\n",
              "      <td>837</td>\n",
              "      <td>-25.0</td>\n",
              "      <td>...</td>\n",
              "      <td>461</td>\n",
              "      <td>N668DN</td>\n",
              "      <td>LGA</td>\n",
              "      <td>ATL</td>\n",
              "      <td>116.0</td>\n",
              "      <td>762</td>\n",
              "      <td>6</td>\n",
              "      <td>0</td>\n",
              "      <td>2013-01-01 06:00:00</td>\n",
              "      <td>Delta Air Lines Inc.</td>\n",
              "    </tr>\n",
              "    <tr>\n",
              "      <th>...</th>\n",
              "      <td>...</td>\n",
              "      <td>...</td>\n",
              "      <td>...</td>\n",
              "      <td>...</td>\n",
              "      <td>...</td>\n",
              "      <td>...</td>\n",
              "      <td>...</td>\n",
              "      <td>...</td>\n",
              "      <td>...</td>\n",
              "      <td>...</td>\n",
              "      <td>...</td>\n",
              "      <td>...</td>\n",
              "      <td>...</td>\n",
              "      <td>...</td>\n",
              "      <td>...</td>\n",
              "      <td>...</td>\n",
              "      <td>...</td>\n",
              "      <td>...</td>\n",
              "      <td>...</td>\n",
              "      <td>...</td>\n",
              "      <td>...</td>\n",
              "    </tr>\n",
              "    <tr>\n",
              "      <th>336771</th>\n",
              "      <td>336771</td>\n",
              "      <td>2013</td>\n",
              "      <td>9</td>\n",
              "      <td>30</td>\n",
              "      <td>NaN</td>\n",
              "      <td>1455</td>\n",
              "      <td>NaN</td>\n",
              "      <td>NaN</td>\n",
              "      <td>1634</td>\n",
              "      <td>NaN</td>\n",
              "      <td>...</td>\n",
              "      <td>3393</td>\n",
              "      <td>NaN</td>\n",
              "      <td>JFK</td>\n",
              "      <td>DCA</td>\n",
              "      <td>NaN</td>\n",
              "      <td>213</td>\n",
              "      <td>14</td>\n",
              "      <td>55</td>\n",
              "      <td>2013-09-30 14:00:00</td>\n",
              "      <td>Endeavor Air Inc.</td>\n",
              "    </tr>\n",
              "    <tr>\n",
              "      <th>336772</th>\n",
              "      <td>336772</td>\n",
              "      <td>2013</td>\n",
              "      <td>9</td>\n",
              "      <td>30</td>\n",
              "      <td>NaN</td>\n",
              "      <td>2200</td>\n",
              "      <td>NaN</td>\n",
              "      <td>NaN</td>\n",
              "      <td>2312</td>\n",
              "      <td>NaN</td>\n",
              "      <td>...</td>\n",
              "      <td>3525</td>\n",
              "      <td>NaN</td>\n",
              "      <td>LGA</td>\n",
              "      <td>SYR</td>\n",
              "      <td>NaN</td>\n",
              "      <td>198</td>\n",
              "      <td>22</td>\n",
              "      <td>0</td>\n",
              "      <td>2013-09-30 22:00:00</td>\n",
              "      <td>Endeavor Air Inc.</td>\n",
              "    </tr>\n",
              "    <tr>\n",
              "      <th>336773</th>\n",
              "      <td>336773</td>\n",
              "      <td>2013</td>\n",
              "      <td>9</td>\n",
              "      <td>30</td>\n",
              "      <td>NaN</td>\n",
              "      <td>1210</td>\n",
              "      <td>NaN</td>\n",
              "      <td>NaN</td>\n",
              "      <td>1330</td>\n",
              "      <td>NaN</td>\n",
              "      <td>...</td>\n",
              "      <td>3461</td>\n",
              "      <td>N535MQ</td>\n",
              "      <td>LGA</td>\n",
              "      <td>BNA</td>\n",
              "      <td>NaN</td>\n",
              "      <td>764</td>\n",
              "      <td>12</td>\n",
              "      <td>10</td>\n",
              "      <td>2013-09-30 12:00:00</td>\n",
              "      <td>Envoy Air</td>\n",
              "    </tr>\n",
              "    <tr>\n",
              "      <th>336774</th>\n",
              "      <td>336774</td>\n",
              "      <td>2013</td>\n",
              "      <td>9</td>\n",
              "      <td>30</td>\n",
              "      <td>NaN</td>\n",
              "      <td>1159</td>\n",
              "      <td>NaN</td>\n",
              "      <td>NaN</td>\n",
              "      <td>1344</td>\n",
              "      <td>NaN</td>\n",
              "      <td>...</td>\n",
              "      <td>3572</td>\n",
              "      <td>N511MQ</td>\n",
              "      <td>LGA</td>\n",
              "      <td>CLE</td>\n",
              "      <td>NaN</td>\n",
              "      <td>419</td>\n",
              "      <td>11</td>\n",
              "      <td>59</td>\n",
              "      <td>2013-09-30 11:00:00</td>\n",
              "      <td>Envoy Air</td>\n",
              "    </tr>\n",
              "    <tr>\n",
              "      <th>336775</th>\n",
              "      <td>336775</td>\n",
              "      <td>2013</td>\n",
              "      <td>9</td>\n",
              "      <td>30</td>\n",
              "      <td>NaN</td>\n",
              "      <td>840</td>\n",
              "      <td>NaN</td>\n",
              "      <td>NaN</td>\n",
              "      <td>1020</td>\n",
              "      <td>NaN</td>\n",
              "      <td>...</td>\n",
              "      <td>3531</td>\n",
              "      <td>N839MQ</td>\n",
              "      <td>LGA</td>\n",
              "      <td>RDU</td>\n",
              "      <td>NaN</td>\n",
              "      <td>431</td>\n",
              "      <td>8</td>\n",
              "      <td>40</td>\n",
              "      <td>2013-09-30 08:00:00</td>\n",
              "      <td>Envoy Air</td>\n",
              "    </tr>\n",
              "  </tbody>\n",
              "</table>\n",
              "<p>336776 rows × 21 columns</p>\n",
              "</div>"
            ],
            "text/plain": [
              "            id  year  month  day  dep_time  sched_dep_time  dep_delay  \\\n",
              "0            0  2013      1    1     517.0             515        2.0   \n",
              "1            1  2013      1    1     533.0             529        4.0   \n",
              "2            2  2013      1    1     542.0             540        2.0   \n",
              "3            3  2013      1    1     544.0             545       -1.0   \n",
              "4            4  2013      1    1     554.0             600       -6.0   \n",
              "...        ...   ...    ...  ...       ...             ...        ...   \n",
              "336771  336771  2013      9   30       NaN            1455        NaN   \n",
              "336772  336772  2013      9   30       NaN            2200        NaN   \n",
              "336773  336773  2013      9   30       NaN            1210        NaN   \n",
              "336774  336774  2013      9   30       NaN            1159        NaN   \n",
              "336775  336775  2013      9   30       NaN             840        NaN   \n",
              "\n",
              "        arr_time  sched_arr_time  arr_delay  ... flight  tailnum origin dest  \\\n",
              "0          830.0             819       11.0  ...   1545   N14228    EWR  IAH   \n",
              "1          850.0             830       20.0  ...   1714   N24211    LGA  IAH   \n",
              "2          923.0             850       33.0  ...   1141   N619AA    JFK  MIA   \n",
              "3         1004.0            1022      -18.0  ...    725   N804JB    JFK  BQN   \n",
              "4          812.0             837      -25.0  ...    461   N668DN    LGA  ATL   \n",
              "...          ...             ...        ...  ...    ...      ...    ...  ...   \n",
              "336771       NaN            1634        NaN  ...   3393      NaN    JFK  DCA   \n",
              "336772       NaN            2312        NaN  ...   3525      NaN    LGA  SYR   \n",
              "336773       NaN            1330        NaN  ...   3461   N535MQ    LGA  BNA   \n",
              "336774       NaN            1344        NaN  ...   3572   N511MQ    LGA  CLE   \n",
              "336775       NaN            1020        NaN  ...   3531   N839MQ    LGA  RDU   \n",
              "\n",
              "       air_time  distance  hour  minute            time_hour  \\\n",
              "0         227.0      1400     5      15  2013-01-01 05:00:00   \n",
              "1         227.0      1416     5      29  2013-01-01 05:00:00   \n",
              "2         160.0      1089     5      40  2013-01-01 05:00:00   \n",
              "3         183.0      1576     5      45  2013-01-01 05:00:00   \n",
              "4         116.0       762     6       0  2013-01-01 06:00:00   \n",
              "...         ...       ...   ...     ...                  ...   \n",
              "336771      NaN       213    14      55  2013-09-30 14:00:00   \n",
              "336772      NaN       198    22       0  2013-09-30 22:00:00   \n",
              "336773      NaN       764    12      10  2013-09-30 12:00:00   \n",
              "336774      NaN       419    11      59  2013-09-30 11:00:00   \n",
              "336775      NaN       431     8      40  2013-09-30 08:00:00   \n",
              "\n",
              "                          name  \n",
              "0        United Air Lines Inc.  \n",
              "1        United Air Lines Inc.  \n",
              "2       American Airlines Inc.  \n",
              "3              JetBlue Airways  \n",
              "4         Delta Air Lines Inc.  \n",
              "...                        ...  \n",
              "336771       Endeavor Air Inc.  \n",
              "336772       Endeavor Air Inc.  \n",
              "336773               Envoy Air  \n",
              "336774               Envoy Air  \n",
              "336775               Envoy Air  \n",
              "\n",
              "[336776 rows x 21 columns]"
            ]
          },
          "execution_count": 7,
          "metadata": {},
          "output_type": "execute_result"
        }
      ],
      "source": [
        "df"
      ]
    },
    {
      "cell_type": "code",
      "execution_count": 8,
      "metadata": {
        "colab": {
          "base_uri": "https://localhost:8080/",
          "height": 320
        },
        "id": "HdmcraMVBHXh",
        "outputId": "b21a170c-c0ac-4c41-e735-acca503a3852"
      },
      "outputs": [
        {
          "data": {
            "text/html": [
              "<div>\n",
              "<style scoped>\n",
              "    .dataframe tbody tr th:only-of-type {\n",
              "        vertical-align: middle;\n",
              "    }\n",
              "\n",
              "    .dataframe tbody tr th {\n",
              "        vertical-align: top;\n",
              "    }\n",
              "\n",
              "    .dataframe thead th {\n",
              "        text-align: right;\n",
              "    }\n",
              "</style>\n",
              "<table border=\"1\" class=\"dataframe\">\n",
              "  <thead>\n",
              "    <tr style=\"text-align: right;\">\n",
              "      <th></th>\n",
              "      <th>id</th>\n",
              "      <th>year</th>\n",
              "      <th>month</th>\n",
              "      <th>day</th>\n",
              "      <th>dep_time</th>\n",
              "      <th>sched_dep_time</th>\n",
              "      <th>dep_delay</th>\n",
              "      <th>arr_time</th>\n",
              "      <th>sched_arr_time</th>\n",
              "      <th>arr_delay</th>\n",
              "      <th>flight</th>\n",
              "      <th>air_time</th>\n",
              "      <th>distance</th>\n",
              "      <th>hour</th>\n",
              "      <th>minute</th>\n",
              "    </tr>\n",
              "  </thead>\n",
              "  <tbody>\n",
              "    <tr>\n",
              "      <th>count</th>\n",
              "      <td>336776.000000</td>\n",
              "      <td>336776.0</td>\n",
              "      <td>336776.000000</td>\n",
              "      <td>336776.000000</td>\n",
              "      <td>328521.000000</td>\n",
              "      <td>336776.000000</td>\n",
              "      <td>328521.000000</td>\n",
              "      <td>328063.000000</td>\n",
              "      <td>336776.000000</td>\n",
              "      <td>327346.000000</td>\n",
              "      <td>336776.000000</td>\n",
              "      <td>327346.000000</td>\n",
              "      <td>336776.000000</td>\n",
              "      <td>336776.000000</td>\n",
              "      <td>336776.000000</td>\n",
              "    </tr>\n",
              "    <tr>\n",
              "      <th>mean</th>\n",
              "      <td>168387.500000</td>\n",
              "      <td>2013.0</td>\n",
              "      <td>6.548510</td>\n",
              "      <td>15.710787</td>\n",
              "      <td>1349.109947</td>\n",
              "      <td>1344.254840</td>\n",
              "      <td>12.639070</td>\n",
              "      <td>1502.054999</td>\n",
              "      <td>1536.380220</td>\n",
              "      <td>6.895377</td>\n",
              "      <td>1971.923620</td>\n",
              "      <td>150.686460</td>\n",
              "      <td>1039.912604</td>\n",
              "      <td>13.180247</td>\n",
              "      <td>26.230100</td>\n",
              "    </tr>\n",
              "    <tr>\n",
              "      <th>std</th>\n",
              "      <td>97219.001466</td>\n",
              "      <td>0.0</td>\n",
              "      <td>3.414457</td>\n",
              "      <td>8.768607</td>\n",
              "      <td>488.281791</td>\n",
              "      <td>467.335756</td>\n",
              "      <td>40.210061</td>\n",
              "      <td>533.264132</td>\n",
              "      <td>497.457142</td>\n",
              "      <td>44.633292</td>\n",
              "      <td>1632.471938</td>\n",
              "      <td>93.688305</td>\n",
              "      <td>733.233033</td>\n",
              "      <td>4.661316</td>\n",
              "      <td>19.300846</td>\n",
              "    </tr>\n",
              "    <tr>\n",
              "      <th>min</th>\n",
              "      <td>0.000000</td>\n",
              "      <td>2013.0</td>\n",
              "      <td>1.000000</td>\n",
              "      <td>1.000000</td>\n",
              "      <td>1.000000</td>\n",
              "      <td>106.000000</td>\n",
              "      <td>-43.000000</td>\n",
              "      <td>1.000000</td>\n",
              "      <td>1.000000</td>\n",
              "      <td>-86.000000</td>\n",
              "      <td>1.000000</td>\n",
              "      <td>20.000000</td>\n",
              "      <td>17.000000</td>\n",
              "      <td>1.000000</td>\n",
              "      <td>0.000000</td>\n",
              "    </tr>\n",
              "    <tr>\n",
              "      <th>25%</th>\n",
              "      <td>84193.750000</td>\n",
              "      <td>2013.0</td>\n",
              "      <td>4.000000</td>\n",
              "      <td>8.000000</td>\n",
              "      <td>907.000000</td>\n",
              "      <td>906.000000</td>\n",
              "      <td>-5.000000</td>\n",
              "      <td>1104.000000</td>\n",
              "      <td>1124.000000</td>\n",
              "      <td>-17.000000</td>\n",
              "      <td>553.000000</td>\n",
              "      <td>82.000000</td>\n",
              "      <td>502.000000</td>\n",
              "      <td>9.000000</td>\n",
              "      <td>8.000000</td>\n",
              "    </tr>\n",
              "    <tr>\n",
              "      <th>50%</th>\n",
              "      <td>168387.500000</td>\n",
              "      <td>2013.0</td>\n",
              "      <td>7.000000</td>\n",
              "      <td>16.000000</td>\n",
              "      <td>1401.000000</td>\n",
              "      <td>1359.000000</td>\n",
              "      <td>-2.000000</td>\n",
              "      <td>1535.000000</td>\n",
              "      <td>1556.000000</td>\n",
              "      <td>-5.000000</td>\n",
              "      <td>1496.000000</td>\n",
              "      <td>129.000000</td>\n",
              "      <td>872.000000</td>\n",
              "      <td>13.000000</td>\n",
              "      <td>29.000000</td>\n",
              "    </tr>\n",
              "    <tr>\n",
              "      <th>75%</th>\n",
              "      <td>252581.250000</td>\n",
              "      <td>2013.0</td>\n",
              "      <td>10.000000</td>\n",
              "      <td>23.000000</td>\n",
              "      <td>1744.000000</td>\n",
              "      <td>1729.000000</td>\n",
              "      <td>11.000000</td>\n",
              "      <td>1940.000000</td>\n",
              "      <td>1945.000000</td>\n",
              "      <td>14.000000</td>\n",
              "      <td>3465.000000</td>\n",
              "      <td>192.000000</td>\n",
              "      <td>1389.000000</td>\n",
              "      <td>17.000000</td>\n",
              "      <td>44.000000</td>\n",
              "    </tr>\n",
              "    <tr>\n",
              "      <th>max</th>\n",
              "      <td>336775.000000</td>\n",
              "      <td>2013.0</td>\n",
              "      <td>12.000000</td>\n",
              "      <td>31.000000</td>\n",
              "      <td>2400.000000</td>\n",
              "      <td>2359.000000</td>\n",
              "      <td>1301.000000</td>\n",
              "      <td>2400.000000</td>\n",
              "      <td>2359.000000</td>\n",
              "      <td>1272.000000</td>\n",
              "      <td>8500.000000</td>\n",
              "      <td>695.000000</td>\n",
              "      <td>4983.000000</td>\n",
              "      <td>23.000000</td>\n",
              "      <td>59.000000</td>\n",
              "    </tr>\n",
              "  </tbody>\n",
              "</table>\n",
              "</div>"
            ],
            "text/plain": [
              "                  id      year          month            day       dep_time  \\\n",
              "count  336776.000000  336776.0  336776.000000  336776.000000  328521.000000   \n",
              "mean   168387.500000    2013.0       6.548510      15.710787    1349.109947   \n",
              "std     97219.001466       0.0       3.414457       8.768607     488.281791   \n",
              "min         0.000000    2013.0       1.000000       1.000000       1.000000   \n",
              "25%     84193.750000    2013.0       4.000000       8.000000     907.000000   \n",
              "50%    168387.500000    2013.0       7.000000      16.000000    1401.000000   \n",
              "75%    252581.250000    2013.0      10.000000      23.000000    1744.000000   \n",
              "max    336775.000000    2013.0      12.000000      31.000000    2400.000000   \n",
              "\n",
              "       sched_dep_time      dep_delay       arr_time  sched_arr_time  \\\n",
              "count   336776.000000  328521.000000  328063.000000   336776.000000   \n",
              "mean      1344.254840      12.639070    1502.054999     1536.380220   \n",
              "std        467.335756      40.210061     533.264132      497.457142   \n",
              "min        106.000000     -43.000000       1.000000        1.000000   \n",
              "25%        906.000000      -5.000000    1104.000000     1124.000000   \n",
              "50%       1359.000000      -2.000000    1535.000000     1556.000000   \n",
              "75%       1729.000000      11.000000    1940.000000     1945.000000   \n",
              "max       2359.000000    1301.000000    2400.000000     2359.000000   \n",
              "\n",
              "           arr_delay         flight       air_time       distance  \\\n",
              "count  327346.000000  336776.000000  327346.000000  336776.000000   \n",
              "mean        6.895377    1971.923620     150.686460    1039.912604   \n",
              "std        44.633292    1632.471938      93.688305     733.233033   \n",
              "min       -86.000000       1.000000      20.000000      17.000000   \n",
              "25%       -17.000000     553.000000      82.000000     502.000000   \n",
              "50%        -5.000000    1496.000000     129.000000     872.000000   \n",
              "75%        14.000000    3465.000000     192.000000    1389.000000   \n",
              "max      1272.000000    8500.000000     695.000000    4983.000000   \n",
              "\n",
              "                hour         minute  \n",
              "count  336776.000000  336776.000000  \n",
              "mean       13.180247      26.230100  \n",
              "std         4.661316      19.300846  \n",
              "min         1.000000       0.000000  \n",
              "25%         9.000000       8.000000  \n",
              "50%        13.000000      29.000000  \n",
              "75%        17.000000      44.000000  \n",
              "max        23.000000      59.000000  "
            ]
          },
          "execution_count": 8,
          "metadata": {},
          "output_type": "execute_result"
        }
      ],
      "source": [
        "df.describe()"
      ]
    },
    {
      "cell_type": "code",
      "execution_count": 9,
      "metadata": {
        "id": "094DeA5fYpWL"
      },
      "outputs": [],
      "source": [
        "# Dropping irrelevant columns\n",
        "df.drop(['tailnum'],axis=1,inplace=True)"
      ]
    },
    {
      "cell_type": "code",
      "execution_count": 10,
      "metadata": {
        "colab": {
          "base_uri": "https://localhost:8080/"
        },
        "id": "LaO8iRbObI4E",
        "outputId": "8667eee0-07b5-4e3a-cb5b-876a77145e31"
      },
      "outputs": [
        {
          "data": {
            "text/plain": [
              "(336776, 20)"
            ]
          },
          "execution_count": 10,
          "metadata": {},
          "output_type": "execute_result"
        }
      ],
      "source": [
        "df.shape"
      ]
    },
    {
      "cell_type": "code",
      "execution_count": 11,
      "metadata": {
        "colab": {
          "base_uri": "https://localhost:8080/"
        },
        "id": "L2EXyGltbL-q",
        "outputId": "575cd7d4-8f2a-4630-b658-e069e83afb13"
      },
      "outputs": [
        {
          "data": {
            "text/plain": [
              "2.451184169893341"
            ]
          },
          "execution_count": 11,
          "metadata": {},
          "output_type": "execute_result"
        }
      ],
      "source": [
        "(8255/336776*100)\n",
        "# here we got to know that only 2% of data is missing in column dep_time\n",
        "# manipulate the value"
      ]
    },
    {
      "cell_type": "code",
      "execution_count": 12,
      "metadata": {
        "colab": {
          "base_uri": "https://localhost:8080/",
          "height": 641
        },
        "id": "moax-9pqcv4k",
        "outputId": "f82ce9c7-3d28-496f-fd3a-9c9319008a93"
      },
      "outputs": [
        {
          "name": "stderr",
          "output_type": "stream",
          "text": [
            "C:\\Users\\ankit\\AppData\\Local\\Temp\\ipykernel_14000\\3700341253.py:1: UserWarning: \n",
            "\n",
            "`distplot` is a deprecated function and will be removed in seaborn v0.14.0.\n",
            "\n",
            "Please adapt your code to use either `displot` (a figure-level function with\n",
            "similar flexibility) or `histplot` (an axes-level function for histograms).\n",
            "\n",
            "For a guide to updating your code to use the new functions, please see\n",
            "https://gist.github.com/mwaskom/de44147ed2974457ad6372750bbe5751\n",
            "\n",
            "  sns.distplot(df['dep_time'])\n"
          ]
        },
        {
          "data": {
            "image/png": "[encoded data removed]",
            "text/plain": [
              "<Figure size 640x480 with 1 Axes>"
            ]
          },
          "metadata": {},
          "output_type": "display_data"
        }
      ],
      "source": [
        "sns.distplot(df['dep_time'])\n",
        "plt.show()\n",
        "# here we got to know that data is unsymmetric\n",
        "# to fill the value we use median"
      ]
    },
    {
      "cell_type": "code",
      "execution_count": 14,
      "metadata": {
        "id": "yrww9sp-dSW8"
      },
      "outputs": [
        {
          "name": "stderr",
          "output_type": "stream",
          "text": [
            "C:\\Users\\ankit\\AppData\\Local\\Temp\\ipykernel_14000\\944181305.py:1: FutureWarning: A value is trying to be set on a copy of a DataFrame or Series through chained assignment using an inplace method.\n",
            "The behavior will change in pandas 3.0. This inplace method will never work because the intermediate object on which we are setting values always behaves as a copy.\n",
            "\n",
            "For example, when doing 'df[col].method(value, inplace=True)', try using 'df.method({col: value}, inplace=True)' or df[col] = df[col].method(value) instead, to perform the operation inplace on the original object.\n",
            "\n",
            "\n",
            "  df['dep_time'].fillna(df['dep_time'].median(),inplace=True)\n"
          ]
        }
      ],
      "source": [
        "df['dep_time'].fillna(df['dep_time'].median(),inplace=True)"
      ]
    },
    {
      "cell_type": "code",
      "execution_count": 16,
      "metadata": {
        "colab": {
          "base_uri": "https://localhost:8080/"
        },
        "id": "T_m28-cFaLiP",
        "outputId": "8fe958a2-14f0-4a7b-88aa-45207491e20a"
      },
      "outputs": [
        {
          "data": {
            "text/plain": [
              "id                   0\n",
              "year                 0\n",
              "month                0\n",
              "day                  0\n",
              "dep_time             0\n",
              "sched_dep_time       0\n",
              "dep_delay         8255\n",
              "arr_time          8713\n",
              "sched_arr_time       0\n",
              "arr_delay         9430\n",
              "carrier              0\n",
              "flight               0\n",
              "origin               0\n",
              "dest                 0\n",
              "air_time          9430\n",
              "distance             0\n",
              "hour                 0\n",
              "minute               0\n",
              "time_hour            0\n",
              "name                 0\n",
              "dtype: int64"
            ]
          },
          "execution_count": 16,
          "metadata": {},
          "output_type": "execute_result"
        }
      ],
      "source": [
        "df.isnull().sum()"
      ]
    },
    {
      "cell_type": "code",
      "execution_count": 17,
      "metadata": {
        "colab": {
          "base_uri": "https://localhost:8080/"
        },
        "id": "6ZMf-NACdzOa",
        "outputId": "f3d2b8de-2e83-44c3-ae6b-82cd132b143b"
      },
      "outputs": [
        {
          "data": {
            "text/plain": [
              "2.451184169893341"
            ]
          },
          "execution_count": 17,
          "metadata": {},
          "output_type": "execute_result"
        }
      ],
      "source": [
        "(8255/336776*100)"
      ]
    },
    {
      "cell_type": "code",
      "execution_count": 18,
      "metadata": {
        "colab": {
          "base_uri": "https://localhost:8080/",
          "height": 641
        },
        "id": "vwJqKJukd_p1",
        "outputId": "cf9f0de9-c3a0-4893-b8fe-03e93ad921c5"
      },
      "outputs": [
        {
          "name": "stderr",
          "output_type": "stream",
          "text": [
            "C:\\Users\\ankit\\AppData\\Local\\Temp\\ipykernel_14000\\3028429591.py:1: UserWarning: \n",
            "\n",
            "`distplot` is a deprecated function and will be removed in seaborn v0.14.0.\n",
            "\n",
            "Please adapt your code to use either `displot` (a figure-level function with\n",
            "similar flexibility) or `histplot` (an axes-level function for histograms).\n",
            "\n",
            "For a guide to updating your code to use the new functions, please see\n",
            "https://gist.github.com/mwaskom/de44147ed2974457ad6372750bbe5751\n",
            "\n",
            "  sns.distplot(df['dep_delay'])\n"
          ]
        },
        {
          "data": {
            "image/png": "[encoded data removed]",
            "text/plain": [
              "<Figure size 640x480 with 1 Axes>"
            ]
          },
          "metadata": {},
          "output_type": "display_data"
        }
      ],
      "source": [
        "sns.distplot(df['dep_delay'])\n",
        "plt.show()"
      ]
    },
    {
      "cell_type": "code",
      "execution_count": 19,
      "metadata": {
        "colab": {
          "base_uri": "https://localhost:8080/"
        },
        "id": "H8vWI4o1efQx",
        "outputId": "6f1f87eb-ed55-42aa-d314-872af5f32dd6"
      },
      "outputs": [
        {
          "data": {
            "text/plain": [
              "id                   0\n",
              "year                 0\n",
              "month                0\n",
              "day                  0\n",
              "dep_time             0\n",
              "sched_dep_time       0\n",
              "dep_delay         8255\n",
              "arr_time          8713\n",
              "sched_arr_time       0\n",
              "arr_delay         9430\n",
              "carrier              0\n",
              "flight               0\n",
              "origin               0\n",
              "dest                 0\n",
              "air_time          9430\n",
              "distance             0\n",
              "hour                 0\n",
              "minute               0\n",
              "time_hour            0\n",
              "name                 0\n",
              "dtype: int64"
            ]
          },
          "execution_count": 19,
          "metadata": {},
          "output_type": "execute_result"
        }
      ],
      "source": [
        "df.isnull().sum()"
      ]
    },
    {
      "cell_type": "code",
      "execution_count": 20,
      "metadata": {
        "id": "6ELS2bvWer14"
      },
      "outputs": [
        {
          "name": "stderr",
          "output_type": "stream",
          "text": [
            "C:\\Users\\ankit\\AppData\\Local\\Temp\\ipykernel_14000\\3645811329.py:2: FutureWarning: A value is trying to be set on a copy of a DataFrame or Series through chained assignment using an inplace method.\n",
            "The behavior will change in pandas 3.0. This inplace method will never work because the intermediate object on which we are setting values always behaves as a copy.\n",
            "\n",
            "For example, when doing 'df[col].method(value, inplace=True)', try using 'df.method({col: value}, inplace=True)' or df[col] = df[col].method(value) instead, to perform the operation inplace on the original object.\n",
            "\n",
            "\n",
            "  df['dep_delay'].fillna(df['dep_delay'].median(),inplace=True)\n",
            "C:\\Users\\ankit\\AppData\\Local\\Temp\\ipykernel_14000\\3645811329.py:3: FutureWarning: A value is trying to be set on a copy of a DataFrame or Series through chained assignment using an inplace method.\n",
            "The behavior will change in pandas 3.0. This inplace method will never work because the intermediate object on which we are setting values always behaves as a copy.\n",
            "\n",
            "For example, when doing 'df[col].method(value, inplace=True)', try using 'df.method({col: value}, inplace=True)' or df[col] = df[col].method(value) instead, to perform the operation inplace on the original object.\n",
            "\n",
            "\n",
            "  df['arr_time'].fillna(df['arr_time'].median(),inplace=True)\n",
            "C:\\Users\\ankit\\AppData\\Local\\Temp\\ipykernel_14000\\3645811329.py:4: FutureWarning: A value is trying to be set on a copy of a DataFrame or Series through chained assignment using an inplace method.\n",
            "The behavior will change in pandas 3.0. This inplace method will never work because the intermediate object on which we are setting values always behaves as a copy.\n",
            "\n",
            "For example, when doing 'df[col].method(value, inplace=True)', try using 'df.method({col: value}, inplace=True)' or df[col] = df[col].method(value) instead, to perform the operation inplace on the original object.\n",
            "\n",
            "\n",
            "  df['arr_delay'].fillna(df['arr_delay'].median(),inplace=True)\n",
            "C:\\Users\\ankit\\AppData\\Local\\Temp\\ipykernel_14000\\3645811329.py:5: FutureWarning: A value is trying to be set on a copy of a DataFrame or Series through chained assignment using an inplace method.\n",
            "The behavior will change in pandas 3.0. This inplace method will never work because the intermediate object on which we are setting values always behaves as a copy.\n",
            "\n",
            "For example, when doing 'df[col].method(value, inplace=True)', try using 'df.method({col: value}, inplace=True)' or df[col] = df[col].method(value) instead, to perform the operation inplace on the original object.\n",
            "\n",
            "\n",
            "  df['air_time'].fillna(df['air_time'].median(),inplace=True)\n"
          ]
        }
      ],
      "source": [
        "# Dropping or Manipulating the missing or null values.\n",
        "df['dep_delay'].fillna(df['dep_delay'].median(),inplace=True)\n",
        "df['arr_time'].fillna(df['arr_time'].median(),inplace=True)\n",
        "df['arr_delay'].fillna(df['arr_delay'].median(),inplace=True)\n",
        "df['air_time'].fillna(df['air_time'].median(),inplace=True)\n",
        "df.dropna(subset=['time_hour'], inplace=True)\n"
      ]
    },
    {
      "cell_type": "code",
      "execution_count": 21,
      "metadata": {
        "colab": {
          "base_uri": "https://localhost:8080/"
        },
        "id": "5bKfwGDFe7L_",
        "outputId": "7d22eebd-06cd-4d50-9ec5-b523d99711d1"
      },
      "outputs": [
        {
          "data": {
            "text/plain": [
              "id                0\n",
              "year              0\n",
              "month             0\n",
              "day               0\n",
              "dep_time          0\n",
              "sched_dep_time    0\n",
              "dep_delay         0\n",
              "arr_time          0\n",
              "sched_arr_time    0\n",
              "arr_delay         0\n",
              "carrier           0\n",
              "flight            0\n",
              "origin            0\n",
              "dest              0\n",
              "air_time          0\n",
              "distance          0\n",
              "hour              0\n",
              "minute            0\n",
              "time_hour         0\n",
              "name              0\n",
              "dtype: int64"
            ]
          },
          "execution_count": 21,
          "metadata": {},
          "output_type": "execute_result"
        }
      ],
      "source": [
        "# Finally i have sucessfuliy remove all the missing value\n",
        "df.isnull().sum()"
      ]
    },
    {
      "cell_type": "code",
      "execution_count": 23,
      "metadata": {
        "colab": {
          "base_uri": "https://localhost:8080/",
          "height": 466
        },
        "id": "CjQ9zcmOft5M",
        "outputId": "d9ed6df2-16a4-4752-fbe8-726111308806"
      },
      "outputs": [
        {
          "data": {
            "text/plain": [
              "Text(0.5, 0, 'Months')"
            ]
          },
          "execution_count": 23,
          "metadata": {},
          "output_type": "execute_result"
        },
        {
          "data": {
            "image/png": "[encoded data removed]",
            "text/plain": [
              "<Figure size 640x480 with 1 Axes>"
            ]
          },
          "metadata": {},
          "output_type": "display_data"
        }
      ],
      "source": [
        "sns.countplot(x = df['month'])\n",
        "plt.ylabel(\"Travel Counts\")\n",
        "plt.xlabel(\"Months\")"
      ]
    },
    {
      "cell_type": "code",
      "execution_count": 24,
      "metadata": {
        "colab": {
          "base_uri": "https://localhost:8080/"
        },
        "id": "HHSMTYMQj_3q",
        "outputId": "8d5a20e2-6467-4c1e-a55d-cccd36b27ce2"
      },
      "outputs": [
        {
          "data": {
            "text/plain": [
              "month\n",
              "7     29425\n",
              "8     29327\n",
              "10    28889\n",
              "3     28834\n",
              "5     28796\n",
              "4     28330\n",
              "6     28243\n",
              "12    28135\n",
              "9     27574\n",
              "11    27268\n",
              "1     27004\n",
              "2     24951\n",
              "Name: count, dtype: int64"
            ]
          },
          "execution_count": 24,
          "metadata": {},
          "output_type": "execute_result"
        }
      ],
      "source": [
        "df['month'].value_counts()"
      ]
    },
    {
      "cell_type": "code",
      "execution_count": 26,
      "metadata": {
        "colab": {
          "base_uri": "https://localhost:8080/",
          "height": 449
        },
        "id": "rKLmuQjpmjts",
        "outputId": "c88c61bf-b1d0-4b52-87f2-144e03b3a68a"
      },
      "outputs": [
        {
          "data": {
            "image/png": "[encoded data removed]",
            "text/plain": [
              "<Figure size 640x480 with 1 Axes>"
            ]
          },
          "metadata": {},
          "output_type": "display_data"
        }
      ],
      "source": [
        "sns.countplot(x = df['day'])\n",
        "plt.xlabel(\"Days\")\n",
        "plt.ylabel(\"Delay\")\n",
        "plt.show()"
      ]
    },
    {
      "cell_type": "code",
      "execution_count": 27,
      "metadata": {
        "colab": {
          "base_uri": "https://localhost:8080/"
        },
        "id": "zU0Vz3bT4Co8",
        "outputId": "a5a0b38a-7a4b-4221-e8ec-77a54292fba6"
      },
      "outputs": [
        {
          "name": "stdout",
          "output_type": "stream",
          "text": [
            "number of duplicate rows:  (0, 20)\n"
          ]
        }
      ],
      "source": [
        "# Dropping the duplicate rows\n",
        "duplicate_rows_df = df[df.duplicated()]\n",
        "print(\"number of duplicate rows: \", duplicate_rows_df.shape)\n",
        "# Now let us remove the duplicate data because it's ok to remove them."
      ]
    },
    {
      "cell_type": "code",
      "execution_count": 28,
      "metadata": {
        "colab": {
          "base_uri": "https://localhost:8080/"
        },
        "id": "4dCGnFCo5QAi",
        "outputId": "faa133fa-aa15-453d-e1a1-7a8f686ab61b"
      },
      "outputs": [
        {
          "data": {
            "text/plain": [
              "id                336776\n",
              "year              336776\n",
              "month             336776\n",
              "day               336776\n",
              "dep_time          336776\n",
              "sched_dep_time    336776\n",
              "dep_delay         336776\n",
              "arr_time          336776\n",
              "sched_arr_time    336776\n",
              "arr_delay         336776\n",
              "carrier           336776\n",
              "flight            336776\n",
              "origin            336776\n",
              "dest              336776\n",
              "air_time          336776\n",
              "distance          336776\n",
              "hour              336776\n",
              "minute            336776\n",
              "time_hour         336776\n",
              "name              336776\n",
              "dtype: int64"
            ]
          },
          "execution_count": 28,
          "metadata": {},
          "output_type": "execute_result"
        }
      ],
      "source": [
        "df.count()"
      ]
    },
    {
      "cell_type": "code",
      "execution_count": 29,
      "metadata": {
        "colab": {
          "base_uri": "https://localhost:8080/"
        },
        "id": "Hr3xfOnb8I9i",
        "outputId": "cb967683-991c-45b3-e200-a2f5ee83a0c8"
      },
      "outputs": [
        {
          "data": {
            "text/plain": [
              "id                0\n",
              "year              0\n",
              "month             0\n",
              "day               0\n",
              "dep_time          0\n",
              "sched_dep_time    0\n",
              "dep_delay         0\n",
              "arr_time          0\n",
              "sched_arr_time    0\n",
              "arr_delay         0\n",
              "carrier           0\n",
              "flight            0\n",
              "origin            0\n",
              "dest              0\n",
              "air_time          0\n",
              "distance          0\n",
              "hour              0\n",
              "minute            0\n",
              "time_hour         0\n",
              "name              0\n",
              "dtype: int64"
            ]
          },
          "execution_count": 29,
          "metadata": {},
          "output_type": "execute_result"
        }
      ],
      "source": [
        "df.isnull().sum()"
      ]
    },
    {
      "cell_type": "code",
      "execution_count": 30,
      "metadata": {
        "colab": {
          "base_uri": "https://localhost:8080/",
          "height": 467
        },
        "id": "UjsuJ2yB9cLq",
        "outputId": "d50534b9-72fa-4b4b-9500-dab102e68cdc"
      },
      "outputs": [
        {
          "data": {
            "text/plain": [
              "<Axes: xlabel='dep_time'>"
            ]
          },
          "execution_count": 30,
          "metadata": {},
          "output_type": "execute_result"
        },
        {
          "data": {
            "image/png": "[encoded data removed]",
            "text/plain": [
              "<Figure size 640x480 with 1 Axes>"
            ]
          },
          "metadata": {},
          "output_type": "display_data"
        }
      ],
      "source": [
        "# Detecting Outliers\n",
        "sns.boxplot(x=df['dep_time'])"
      ]
    },
    {
      "cell_type": "code",
      "execution_count": 31,
      "metadata": {
        "colab": {
          "base_uri": "https://localhost:8080/",
          "height": 449
        },
        "id": "k9PLSavG9rcP",
        "outputId": "c9d7bea9-7e32-4b8a-f96c-df204070aa07"
      },
      "outputs": [
        {
          "data": {
            "image/png": "[encoded data removed]",
            "text/plain": [
              "<Figure size 640x480 with 1 Axes>"
            ]
          },
          "metadata": {},
          "output_type": "display_data"
        }
      ],
      "source": [
        "sns.boxplot(x= df['distance'])\n",
        "plt.show()"
      ]
    },
    {
      "cell_type": "code",
      "execution_count": 32,
      "metadata": {
        "colab": {
          "base_uri": "https://localhost:8080/",
          "height": 466
        },
        "id": "vOMFTvWw-CmB",
        "outputId": "366e851a-9b05-4ba5-e90a-91d1376ac0f9"
      },
      "outputs": [
        {
          "data": {
            "text/plain": [
              "<Axes: xlabel='flight'>"
            ]
          },
          "execution_count": 32,
          "metadata": {},
          "output_type": "execute_result"
        },
        {
          "data": {
            "image/png": "[encoded data removed]",
            "text/plain": [
              "<Figure size 640x480 with 1 Axes>"
            ]
          },
          "metadata": {},
          "output_type": "display_data"
        }
      ],
      "source": [
        "sns.boxplot(x=df['flight'])"
      ]
    },
    {
      "cell_type": "code",
      "execution_count": 33,
      "metadata": {
        "colab": {
          "base_uri": "https://localhost:8080/",
          "height": 467
        },
        "id": "j--YgS-A-RYo",
        "outputId": "d09a2604-51b7-42c7-b04a-31351b649d5d"
      },
      "outputs": [
        {
          "data": {
            "text/plain": [
              "<Axes: xlabel='arr_delay'>"
            ]
          },
          "execution_count": 33,
          "metadata": {},
          "output_type": "execute_result"
        },
        {
          "data": {
            "image/png": "[encoded data removed]",
            "text/plain": [
              "<Figure size 640x480 with 1 Axes>"
            ]
          },
          "metadata": {},
          "output_type": "display_data"
        }
      ],
      "source": [
        "sns.boxplot(x=df['arr_delay'])"
      ]
    },
    {
      "cell_type": "code",
      "execution_count": 34,
      "metadata": {
        "colab": {
          "base_uri": "https://localhost:8080/",
          "height": 523
        },
        "id": "mYi2E0ZB-0_J",
        "outputId": "6f2d46a9-1ac9-4e0d-e9ea-c8a2b7f46a25"
      },
      "outputs": [
        {
          "data": {
            "text/plain": [
              "Text(0.5, 1.0, '')"
            ]
          },
          "execution_count": 34,
          "metadata": {},
          "output_type": "execute_result"
        },
        {
          "data": {
            "image/png": "[encoded data removed]",
            "text/plain": [
              "<Figure size 500x500 with 1 Axes>"
            ]
          },
          "metadata": {},
          "output_type": "display_data"
        }
      ],
      "source": [
        "sns.displot(df['flight'])\n",
        "plt.title(\"\")"
      ]
    },
    {
      "cell_type": "code",
      "execution_count": 35,
      "metadata": {
        "colab": {
          "base_uri": "https://localhost:8080/"
        },
        "id": "5V0tH7FDDSWm",
        "outputId": "19a5653b-1aa4-4632-89ff-26f068c4a0f6"
      },
      "outputs": [
        {
          "data": {
            "text/plain": [
              "name\n",
              "United Air Lines Inc.          58665\n",
              "JetBlue Airways                54635\n",
              "ExpressJet Airlines Inc.       54173\n",
              "Delta Air Lines Inc.           48110\n",
              "American Airlines Inc.         32729\n",
              "Envoy Air                      26397\n",
              "US Airways Inc.                20536\n",
              "Endeavor Air Inc.              18460\n",
              "Southwest Airlines Co.         12275\n",
              "Virgin America                  5162\n",
              "AirTran Airways Corporation     3260\n",
              "Alaska Airlines Inc.             714\n",
              "Frontier Airlines Inc.           685\n",
              "Mesa Airlines Inc.               601\n",
              "Hawaiian Airlines Inc.           342\n",
              "SkyWest Airlines Inc.             32\n",
              "Name: count, dtype: int64"
            ]
          },
          "execution_count": 35,
          "metadata": {},
          "output_type": "execute_result"
        }
      ],
      "source": [
        "df['name'].value_counts()"
      ]
    },
    {
      "cell_type": "code",
      "execution_count": 36,
      "metadata": {
        "colab": {
          "base_uri": "https://localhost:8080/",
          "height": 529
        },
        "id": "5vWSjzkQDhXP",
        "outputId": "e7f7de57-8898-462e-fd16-f0630d5cf18c"
      },
      "outputs": [
        {
          "data": {
            "image/png": "[encoded data removed]",
            "text/plain": [
              "<Figure size 500x500 with 1 Axes>"
            ]
          },
          "metadata": {},
          "output_type": "display_data"
        }
      ],
      "source": [
        "sns.displot(df['name'])\n",
        "plt.title(\"filgh vs Travell\")\n",
        "plt.xlabel(\"name of flight\")\n",
        "plt.ylabel(\"total travell\")\n",
        "plt.show()"
      ]
    },
    {
      "cell_type": "code",
      "execution_count": 37,
      "metadata": {
        "colab": {
          "base_uri": "https://localhost:8080/",
          "height": 430
        },
        "id": "Y2eCxGyBExO-",
        "outputId": "7cd99a8d-ffb2-4585-8264-ae42da902bc5"
      },
      "outputs": [
        {
          "data": {
            "image/png": "[encoded data removed]",
            "text/plain": [
              "<Figure size 640x480 with 1 Axes>"
            ]
          },
          "metadata": {},
          "output_type": "display_data"
        }
      ],
      "source": [
        "# Scatterplot\n",
        "plt.scatter(df['air_time'],df['arr_delay'])\n",
        "plt.show()"
      ]
    },
    {
      "cell_type": "code",
      "execution_count": 38,
      "metadata": {
        "colab": {
          "base_uri": "https://localhost:8080/",
          "height": 433
        },
        "id": "UenfVXdfFW22",
        "outputId": "c8a4536a-cb81-4f76-8474-a6b234b23f3f"
      },
      "outputs": [
        {
          "data": {
            "image/png": "[encoded data removed]",
            "text/plain": [
              "<Figure size 640x480 with 1 Axes>"
            ]
          },
          "metadata": {},
          "output_type": "display_data"
        }
      ],
      "source": [
        "plt.scatter(df['dep_delay'],df['arr_time'])\n",
        "plt.show()"
      ]
    },
    {
      "cell_type": "code",
      "execution_count": 39,
      "metadata": {
        "id": "IU7dfqD5Fnyy"
      },
      "outputs": [],
      "source": [
        "# THANK YOU."
      ]
    }
  ],
  "metadata": {
    "colab": {
      "provenance": []
    },
    "kernelspec": {
      "display_name": "Python 3",
      "name": "python3"
    },
    "language_info": {
      "codemirror_mode": {
        "name": "ipython",
        "version": 3
      },
      "file_extension": ".py",
      "mimetype": "text/x-python",
      "name": "python",
      "nbconvert_exporter": "python",
      "pygments_lexer": "ipython3",
      "version": "3.12.2"
    }
  },
  "nbformat": 4,
  "nbformat_minor": 0
}
